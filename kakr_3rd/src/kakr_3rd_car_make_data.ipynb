{
 "cells": [
  {
   "cell_type": "markdown",
   "metadata": {
    "colab_type": "text",
    "id": "xCvUUrdZ6lqe"
   },
   "source": [
    "큰 파일의 경우 클라우드에 올려서 실행 시 다운로드 받도록 하는 것이 편리한데,  구글 클라우드의 경우에는 나름 간편하게 받을 수 있다.\n",
    "\n",
    "아래 cell은 파일을 ./input아래에 다운받고(이미 파일이 있으면 skip) 압축을 해제한다."
   ]
  },
  {
   "cell_type": "code",
   "execution_count": 0,
   "metadata": {
    "colab": {},
    "colab_type": "code",
    "id": "YdqgLU_B-qw4"
   },
   "outputs": [],
   "source": [
    "# 데이터에 문제가 있어 다시 받아야 하면 아래 코드 실행\n",
    "\n",
    "import shutil\n",
    "#shutil.rmtree(\"./input\")"
   ]
  },
  {
   "cell_type": "code",
   "execution_count": 0,
   "metadata": {
    "colab": {},
    "colab_type": "code",
    "id": "fsAR_A32esiB"
   },
   "outputs": [],
   "source": [
    "# 서버의 구글 드라이브 파일을 다운받는다.\n",
    "\n",
    "from google_drive_downloader import GoogleDriveDownloader as gdd\n",
    "import os\n",
    "\n",
    "\n",
    "#train.zip : https://drive.google.com/open?id=1ZpsImi7TtTfzG9AVn340mEqR6ie57Dqm\n",
    "#test.zip  : https://drive.google.com/open?id=14okHHWLzWXTrIBranvx8sGurvToLNSNv\n",
    "#csvs.zip  : https://drive.google.com/open?id=1du8AdwdHrM6fdZWloeXSMZDG6UhbmAKb\n",
    "#train_crop.zip : https://drive.google.com/open?id=1jCnPqPwb1w3LnFHWIj4eoDGsfBIiRb3K\n",
    "#test_crop.zip : https://drive.google.com/open?id=1RLF_4MkqK6-5uyv8gLOl-7FwkZzyWudk\n",
    "\n",
    "def download_file_gd(file_id, fpathname, unzip=False):\n",
    "    if os.path.exists(fpathname) == False:\n",
    "        gdd.download_file_from_google_drive(file_id=file_id, dest_path=fpathname, unzip=unzip, showsize=True)\n",
    "    else:\n",
    "        print(fpathname, \": already downloaded\")\n",
    "\n",
    "files = {\"1ZpsImi7TtTfzG9AVn340mEqR6ie57Dqm\" : \"./input/train/train.zip\", \n",
    " \"14okHHWLzWXTrIBranvx8sGurvToLNSNv\" : \"./input/test/test.zip\",\n",
    " \"1du8AdwdHrM6fdZWloeXSMZDG6UhbmAKb\" : \"./input/csvs.zip\",\n",
    " \"1jCnPqPwb1w3LnFHWIj4eoDGsfBIiRb3K\" : \"./input/train_crop/train_crop.zip\",\n",
    " \"1RLF_4MkqK6-5uyv8gLOl-7FwkZzyWudk\" : \"./input/train_crop/test_crop.zip\"}\n",
    "\n",
    "for f in files:\n",
    "    print(f, files[f])\n",
    "    download_file_gd(file_id=f, fpathname=files[f], unzip=True)\n"
   ]
  },
  {
   "cell_type": "markdown",
   "metadata": {
    "colab_type": "text",
    "id": "HNJ9R4musIvP"
   },
   "source": [
    "# 2019 3rd ML month with KaKR\n",
    "\n",
    "자동차 이미지 데이터셋을 이용한 자동차 차종 분류\n",
    "\n",
    "## 목차\n",
    "\n",
    "**1. [데이터 분석](#data_analysis)** <br>\n",
    "**2. [데이터 편집](#data_manipulation)** <br>\n",
    "**3. [모델 생성/훈련/제출](#modelling_training_submit)** <br>\n",
    "\n"
   ]
  },
  {
   "cell_type": "markdown",
   "metadata": {
    "colab_type": "text",
    "id": "fTY2tRgA_KPX"
   },
   "source": [
    "<a id=\"data_analysis\"></a> <br> \n",
    "# **1. 데이터 분석:**\n",
    "\n",
    "train.csv/test.csv 파일을 Pandas DataFrame에 읽어들입니다."
   ]
  },
  {
   "cell_type": "code",
   "execution_count": 1,
   "metadata": {
    "colab": {},
    "colab_type": "code",
    "id": "4hfwgBAG_orv"
   },
   "outputs": [],
   "source": [
    "import pandas as pd\n",
    "import os\n",
    "\n",
    "data_path = \"../input\"\n",
    "\n",
    "df_train = pd.read_csv(os.path.join(data_path, \"train.csv\"))\n",
    "df_test = pd.read_csv(os.path.join(data_path, \"test.csv\"))\n",
    "\n",
    "df_class = pd.read_csv(os.path.join(data_path, \"class.csv\"))"
   ]
  },
  {
   "cell_type": "code",
   "execution_count": 2,
   "metadata": {
    "colab": {},
    "colab_type": "code",
    "id": "v2d94WEkAbkJ"
   },
   "outputs": [
    {
     "data": {
      "text/html": [
       "<div>\n",
       "<style scoped>\n",
       "    .dataframe tbody tr th:only-of-type {\n",
       "        vertical-align: middle;\n",
       "    }\n",
       "\n",
       "    .dataframe tbody tr th {\n",
       "        vertical-align: top;\n",
       "    }\n",
       "\n",
       "    .dataframe thead th {\n",
       "        text-align: right;\n",
       "    }\n",
       "</style>\n",
       "<table border=\"1\" class=\"dataframe\">\n",
       "  <thead>\n",
       "    <tr style=\"text-align: right;\">\n",
       "      <th></th>\n",
       "      <th>img_file</th>\n",
       "      <th>bbox_x1</th>\n",
       "      <th>bbox_y1</th>\n",
       "      <th>bbox_x2</th>\n",
       "      <th>bbox_y2</th>\n",
       "      <th>class</th>\n",
       "    </tr>\n",
       "  </thead>\n",
       "  <tbody>\n",
       "    <tr>\n",
       "      <th>0</th>\n",
       "      <td>train_00001.jpg</td>\n",
       "      <td>1</td>\n",
       "      <td>80</td>\n",
       "      <td>641</td>\n",
       "      <td>461</td>\n",
       "      <td>108</td>\n",
       "    </tr>\n",
       "    <tr>\n",
       "      <th>1</th>\n",
       "      <td>train_00002.jpg</td>\n",
       "      <td>57</td>\n",
       "      <td>53</td>\n",
       "      <td>293</td>\n",
       "      <td>236</td>\n",
       "      <td>71</td>\n",
       "    </tr>\n",
       "    <tr>\n",
       "      <th>2</th>\n",
       "      <td>train_00003.jpg</td>\n",
       "      <td>35</td>\n",
       "      <td>42</td>\n",
       "      <td>227</td>\n",
       "      <td>160</td>\n",
       "      <td>76</td>\n",
       "    </tr>\n",
       "    <tr>\n",
       "      <th>3</th>\n",
       "      <td>train_00004.jpg</td>\n",
       "      <td>10</td>\n",
       "      <td>21</td>\n",
       "      <td>254</td>\n",
       "      <td>165</td>\n",
       "      <td>188</td>\n",
       "    </tr>\n",
       "    <tr>\n",
       "      <th>4</th>\n",
       "      <td>train_00005.jpg</td>\n",
       "      <td>1</td>\n",
       "      <td>67</td>\n",
       "      <td>772</td>\n",
       "      <td>573</td>\n",
       "      <td>44</td>\n",
       "    </tr>\n",
       "  </tbody>\n",
       "</table>\n",
       "</div>"
      ],
      "text/plain": [
       "          img_file  bbox_x1  bbox_y1  bbox_x2  bbox_y2  class\n",
       "0  train_00001.jpg        1       80      641      461    108\n",
       "1  train_00002.jpg       57       53      293      236     71\n",
       "2  train_00003.jpg       35       42      227      160     76\n",
       "3  train_00004.jpg       10       21      254      165    188\n",
       "4  train_00005.jpg        1       67      772      573     44"
      ]
     },
     "execution_count": 2,
     "metadata": {},
     "output_type": "execute_result"
    }
   ],
   "source": [
    "df_train.head()"
   ]
  },
  {
   "cell_type": "markdown",
   "metadata": {
    "colab_type": "text",
    "id": "8d1dxCAeAwSp"
   },
   "source": [
    "이미지 파일명과 이미지에서의 자동차 위치를 표시하는 좌표(left,top,right,bottom)값, 그리고 자동차를 식별하는 class가 있다.\n"
   ]
  },
  {
   "cell_type": "code",
   "execution_count": 3,
   "metadata": {
    "colab": {},
    "colab_type": "code",
    "id": "Dg-kOXgHAfax"
   },
   "outputs": [
    {
     "data": {
      "text/html": [
       "<div>\n",
       "<style scoped>\n",
       "    .dataframe tbody tr th:only-of-type {\n",
       "        vertical-align: middle;\n",
       "    }\n",
       "\n",
       "    .dataframe tbody tr th {\n",
       "        vertical-align: top;\n",
       "    }\n",
       "\n",
       "    .dataframe thead th {\n",
       "        text-align: right;\n",
       "    }\n",
       "</style>\n",
       "<table border=\"1\" class=\"dataframe\">\n",
       "  <thead>\n",
       "    <tr style=\"text-align: right;\">\n",
       "      <th></th>\n",
       "      <th>img_file</th>\n",
       "      <th>bbox_x1</th>\n",
       "      <th>bbox_y1</th>\n",
       "      <th>bbox_x2</th>\n",
       "      <th>bbox_y2</th>\n",
       "    </tr>\n",
       "  </thead>\n",
       "  <tbody>\n",
       "    <tr>\n",
       "      <th>0</th>\n",
       "      <td>test_00001.jpg</td>\n",
       "      <td>199</td>\n",
       "      <td>184</td>\n",
       "      <td>1116</td>\n",
       "      <td>809</td>\n",
       "    </tr>\n",
       "    <tr>\n",
       "      <th>1</th>\n",
       "      <td>test_00002.jpg</td>\n",
       "      <td>55</td>\n",
       "      <td>61</td>\n",
       "      <td>480</td>\n",
       "      <td>257</td>\n",
       "    </tr>\n",
       "    <tr>\n",
       "      <th>2</th>\n",
       "      <td>test_00003.jpg</td>\n",
       "      <td>42</td>\n",
       "      <td>123</td>\n",
       "      <td>602</td>\n",
       "      <td>413</td>\n",
       "    </tr>\n",
       "    <tr>\n",
       "      <th>3</th>\n",
       "      <td>test_00004.jpg</td>\n",
       "      <td>13</td>\n",
       "      <td>8</td>\n",
       "      <td>619</td>\n",
       "      <td>393</td>\n",
       "    </tr>\n",
       "    <tr>\n",
       "      <th>4</th>\n",
       "      <td>test_00005.jpg</td>\n",
       "      <td>8</td>\n",
       "      <td>9</td>\n",
       "      <td>209</td>\n",
       "      <td>93</td>\n",
       "    </tr>\n",
       "  </tbody>\n",
       "</table>\n",
       "</div>"
      ],
      "text/plain": [
       "         img_file  bbox_x1  bbox_y1  bbox_x2  bbox_y2\n",
       "0  test_00001.jpg      199      184     1116      809\n",
       "1  test_00002.jpg       55       61      480      257\n",
       "2  test_00003.jpg       42      123      602      413\n",
       "3  test_00004.jpg       13        8      619      393\n",
       "4  test_00005.jpg        8        9      209       93"
      ]
     },
     "execution_count": 3,
     "metadata": {},
     "output_type": "execute_result"
    }
   ],
   "source": [
    "df_test.head()"
   ]
  },
  {
   "cell_type": "markdown",
   "metadata": {
    "colab_type": "text",
    "id": "Ka4iTYgbBPgl"
   },
   "source": [
    "test.csv는 class가 없는 것을 제외하고 train과 동일하다."
   ]
  },
  {
   "cell_type": "code",
   "execution_count": 4,
   "metadata": {
    "colab": {},
    "colab_type": "code",
    "id": "-0pz0JOiCkw0"
   },
   "outputs": [
    {
     "data": {
      "text/html": [
       "<div>\n",
       "<style scoped>\n",
       "    .dataframe tbody tr th:only-of-type {\n",
       "        vertical-align: middle;\n",
       "    }\n",
       "\n",
       "    .dataframe tbody tr th {\n",
       "        vertical-align: top;\n",
       "    }\n",
       "\n",
       "    .dataframe thead th {\n",
       "        text-align: right;\n",
       "    }\n",
       "</style>\n",
       "<table border=\"1\" class=\"dataframe\">\n",
       "  <thead>\n",
       "    <tr style=\"text-align: right;\">\n",
       "      <th></th>\n",
       "      <th>id</th>\n",
       "      <th>name</th>\n",
       "    </tr>\n",
       "  </thead>\n",
       "  <tbody>\n",
       "    <tr>\n",
       "      <th>0</th>\n",
       "      <td>1</td>\n",
       "      <td>AM General Hummer SUV 2000</td>\n",
       "    </tr>\n",
       "    <tr>\n",
       "      <th>1</th>\n",
       "      <td>2</td>\n",
       "      <td>Acura RL Sedan 2012</td>\n",
       "    </tr>\n",
       "    <tr>\n",
       "      <th>2</th>\n",
       "      <td>3</td>\n",
       "      <td>Acura TL Sedan 2012</td>\n",
       "    </tr>\n",
       "    <tr>\n",
       "      <th>3</th>\n",
       "      <td>4</td>\n",
       "      <td>Acura TL Type-S 2008</td>\n",
       "    </tr>\n",
       "    <tr>\n",
       "      <th>4</th>\n",
       "      <td>5</td>\n",
       "      <td>Acura TSX Sedan 2012</td>\n",
       "    </tr>\n",
       "  </tbody>\n",
       "</table>\n",
       "</div>"
      ],
      "text/plain": [
       "   id                        name\n",
       "0   1  AM General Hummer SUV 2000\n",
       "1   2         Acura RL Sedan 2012\n",
       "2   3         Acura TL Sedan 2012\n",
       "3   4        Acura TL Type-S 2008\n",
       "4   5        Acura TSX Sedan 2012"
      ]
     },
     "execution_count": 4,
     "metadata": {},
     "output_type": "execute_result"
    }
   ],
   "source": [
    "df_class.head()"
   ]
  },
  {
   "cell_type": "markdown",
   "metadata": {
    "colab_type": "text",
    "id": "8vELa_zsCoC2"
   },
   "source": [
    "(id,name)쌍으로 된 자동차 class와 이름 데이터가 들어있다."
   ]
  },
  {
   "cell_type": "markdown",
   "metadata": {
    "colab_type": "text",
    "id": "Ie8BnP3JhhnM"
   },
   "source": [
    "이미지들의 width/height의 min/max 값과 분포를 확인합니다."
   ]
  },
  {
   "cell_type": "code",
   "execution_count": 5,
   "metadata": {
    "colab": {},
    "colab_type": "code",
    "id": "rUSg_FuohgzJ"
   },
   "outputs": [
    {
     "name": "stdout",
     "output_type": "stream",
     "text": [
      "width  min/max/mean :  78 5616 698.2644644644645\n",
      "height min/max/mean :  57 3744 481.853953953954\n"
     ]
    },
    {
     "data": {
      "text/plain": [
       "<matplotlib.axes._subplots.AxesSubplot at 0x7f2df64b5668>"
      ]
     },
     "execution_count": 5,
     "metadata": {},
     "output_type": "execute_result"
    }
   ],
   "source": [
    "from PIL import Image, ImageDraw\n",
    "import matplotlib.pyplot as plt\n",
    "import numpy as np\n",
    "import os\n",
    "\n",
    "\n",
    "widths = []\n",
    "heights = []\n",
    "\n",
    "for idx, row in df_train.iterrows():    \n",
    "    im = Image.open(os.path.join(os.path.join(data_path, \"train\"), row['img_file']))\n",
    "    w, h = im.size\n",
    "    widths.append(w)\n",
    "    heights.append(h)\n",
    "    \n",
    "widths = np.array(widths)\n",
    "heights = np.array(heights)\n",
    "print(\"width  min/max/mean : \", np.min(widths), np.max(widths), np.mean(widths))\n",
    "print(\"height min/max/mean : \", np.min(heights), np.max(heights), np.mean(heights))\n",
    "\n",
    "bins = [x for x in range(-1, 6000, 200)]\n",
    "\n",
    "import matplotlib.pyplot as plt\n",
    "import seaborn as sns\n",
    "fig, ax = plt.subplots(2, 2, figsize=(20, 20))\n",
    "\n",
    "# draw as hist:\n",
    "ax[0][0].hist(widths, bins=bins)\n",
    "ax[0][1].hist(heights, bins=bins)\n",
    "\n",
    "# draw as kde:\n",
    "sns.kdeplot(np.array(widths), ax=ax[1][0])\n",
    "sns.kdeplot(np.array(heights), ax=ax[1][1])\n",
    "    \n"
   ]
  },
  {
   "cell_type": "markdown",
   "metadata": {
    "colab_type": "text",
    "id": "VRkfYhMPS9_3"
   },
   "source": [
    "이미지 몇 장을 box를 그려서 출력해 봅니다."
   ]
  },
  {
   "cell_type": "code",
   "execution_count": 6,
   "metadata": {
    "colab": {},
    "colab_type": "code",
    "id": "HYvaQ7YYWKWw"
   },
   "outputs": [
    {
     "name": "stdout",
     "output_type": "stream",
     "text": [
      "bbox: 31 31 1543 1018\n",
      "bbox: 47 35 590 403\n",
      "bbox: 3 30 295 192\n",
      "bbox: 109 196 1483 1087\n",
      "bbox: 115 104 783 349\n"
     ]
    }
   ],
   "source": [
    "from PIL import Image, ImageDraw\n",
    "import matplotlib.pyplot as plt\n",
    "\n",
    "n = 5\n",
    "\n",
    "fix, ax = plt.subplots(n, 1, figsize = (10, 40))\n",
    "axidx = 0\n",
    "\n",
    "df_sample = df_train.sample(n)\n",
    "for idx, row in df_sample.iterrows():\n",
    "    im = Image.open(os.path.join(os.path.join(data_path, \"train\"), row['img_file']))\n",
    "    \n",
    "    # 이미지 내에 박스를 그린다.\n",
    "    draw = ImageDraw.Draw(im)\n",
    "    draw.rectangle((row['bbox_x1'], row['bbox_y1'], row['bbox_x2'], row['bbox_y2']), outline='blue')\n",
    "    \n",
    "    print(\"bbox:\", row['bbox_x1'], row['bbox_y1'], row['bbox_x2'], row['bbox_y2'])\n",
    "    ax[axidx].imshow(im)\n",
    "    axidx += 1\n"
   ]
  },
  {
   "cell_type": "markdown",
   "metadata": {
    "colab_type": "text",
    "id": "ZYcCHWvbbld8"
   },
   "source": [
    "사이즈는 resize가 어렵지 않지만 ratio는 그렇지 않습니다.\n",
    "ratio의 분포를 학인할 필요가 있어 보입니다."
   ]
  },
  {
   "cell_type": "code",
   "execution_count": 7,
   "metadata": {
    "colab": {},
    "colab_type": "code",
    "id": "7w3Vmde-WWcZ"
   },
   "outputs": [
    {
     "name": "stdout",
     "output_type": "stream",
     "text": [
      "   bbox_x1  bbox_x2  bbox_y1  bbox_y2  class         img_file     ratio\n",
      "0        1      641       80      461  108.0  train_00001.jpg  1.679790\n",
      "1       57      293       53      236   71.0  train_00002.jpg  1.289617\n",
      "2       35      227       42      160   76.0  train_00003.jpg  1.627119\n",
      "3       10      254       21      165  188.0  train_00004.jpg  1.694444\n",
      "4        1      772       67      573   44.0  train_00005.jpg  1.523715\n",
      "0    1.679790\n",
      "1    1.289617\n",
      "2    1.627119\n",
      "3    1.694444\n",
      "4    1.523715\n",
      "5    1.257919\n",
      "6    1.523077\n",
      "7    1.842262\n",
      "8    2.111111\n",
      "9    1.957447\n",
      "Name: ratio, dtype: float64\n",
      "ratio.mean(): 1.945869718450243\n"
     ]
    },
    {
     "name": "stderr",
     "output_type": "stream",
     "text": [
      "/usr/local/lib/python3.5/dist-packages/pandas/core/frame.py:6211: FutureWarning: Sorting because non-concatenation axis is not aligned. A future version\n",
      "of pandas will change to not sort by default.\n",
      "\n",
      "To accept the future behavior, pass 'sort=False'.\n",
      "\n",
      "To retain the current behavior and silence the warning, pass 'sort=True'.\n",
      "\n",
      "  sort=sort)\n"
     ]
    }
   ],
   "source": [
    "def checkratio(df):\n",
    "    df['ratio'] = (df['bbox_x2'] - df['bbox_x1']) / (df['bbox_y2'] - df['bbox_y1'])\n",
    "    return df\n",
    "\n",
    "df_merged = df_train.append(df_test, ignore_index=True)\n",
    "df_tmp = checkratio(df_merged)\n",
    "print(df_tmp.head())\n",
    "print(df_tmp['ratio'].head(10))\n",
    "df_tmp['ratio'].plot.kde()\n",
    "print(\"ratio.mean():\", df_tmp['ratio'].mean())\n",
    "\n",
    "#default_ratio = df_tmp['ratio'].mean()\n",
    "\n",
    "default_ratio = 1.0"
   ]
  },
  {
   "cell_type": "markdown",
   "metadata": {
    "colab_type": "text",
    "id": "w0NNKoF8gwJL"
   },
   "source": [
    "crop된 이미지를 모델의 입력으로 사용하기 위해서는 이미지의 크기를 일정한 크기로 resize해야 합니다.\n",
    "\n",
    "그러나 이미지를 그대로 resize하면 이미지의 ratio가 변형되어 데이터가 손상되므로 resize전에 먼저 이미지의 좌/우 혹은 위/아래에 padding을 추가하여 동일한 ratio로 맞춰 주어야 합니다."
   ]
  },
  {
   "cell_type": "code",
   "execution_count": 8,
   "metadata": {
    "colab": {},
    "colab_type": "code",
    "id": "wcga964JSp0C"
   },
   "outputs": [],
   "source": [
    "image_width, image_height = int(default_ratio * 200), int(200)\n",
    "\n",
    "def get_fixed_img(filename, area, ratio, output_size):\n",
    "    debug = False\n",
    "    im = Image.open(filename)\n",
    "    cropIm = im.crop(area)\n",
    "    \n",
    "    if debug:\n",
    "        print(\"crop w/h=\", cropIm.width, cropIm.height)\n",
    "    \n",
    "    w, h = cropIm.width, cropIm.height\n",
    "    # w : h = w/h ratio : 1\n",
    "    fixedW, fixedH = w, h\n",
    "    if w/h >= ratio:\n",
    "        fixedH = w / ratio\n",
    "    else:\n",
    "        fixedW = h * ratio\n",
    "    fixedW, fixedH = int(fixedW), int(fixedH)\n",
    "\n",
    "    if debug:\n",
    "        print(\"fixed w/h=\", fixedW, fixedH, \"ratio=\", fixedW/fixedH)\n",
    "    \n",
    "    newIm = Image.new(\"RGB\", (fixedW, fixedH))\n",
    "    newIm.paste(cropIm, ((fixedW - w)//2, (fixedH - h)//2))\n",
    "    \n",
    "    newIm = newIm.resize(output_size, resample=Image.NEAREST)\n",
    "    return newIm\n",
    "\n",
    "def img_from_row(row, path, ratio, w, h):\n",
    "    filepath = os.path.join(path, row['img_file'])\n",
    "    area = (row['bbox_x1'], row['bbox_y1'], row['bbox_x2'], row['bbox_y2'])\n",
    "    return get_fixed_img(filepath, area, ratio, (w, h))    \n",
    "\n",
    "def make_crop_img(df, dirpath):\n",
    "    for idx, row in df.iterrows():\n",
    "        im = img_from_row(row, dirpath, default_ratio, image_width, image_height)\n",
    "        dirpath_crop = dirpath + \"_crop\"\n",
    "        if os.path.exists(dirpath_crop) == False:\n",
    "            os.mkdir(dirpath_crop)        \n",
    "        new_path = os.path.join(dirpath_crop, row['img_file'])\n",
    "        im.save(new_path)        \n",
    "\n",
    "make_crop_img(df_train, os.path.join(data_path, \"train\"))\n",
    "make_crop_img(df_test, os.path.join(data_path, \"test\"))\n",
    "    "
   ]
  },
  {
   "cell_type": "code",
   "execution_count": 9,
   "metadata": {
    "colab": {},
    "colab_type": "code",
    "id": "SDAAOIqHDJzE"
   },
   "outputs": [],
   "source": [
    "a,b = (1,2)"
   ]
  },
  {
   "cell_type": "code",
   "execution_count": 10,
   "metadata": {},
   "outputs": [
    {
     "name": "stdout",
     "output_type": "stream",
     "text": [
      "1 2\n"
     ]
    }
   ],
   "source": [
    "print(a,b)"
   ]
  },
  {
   "cell_type": "code",
   "execution_count": null,
   "metadata": {},
   "outputs": [],
   "source": []
  }
 ],
 "metadata": {
  "accelerator": "GPU",
  "colab": {
   "collapsed_sections": [],
   "name": "kakr_car.ipynb",
   "provenance": [],
   "toc_visible": true,
   "version": "0.3.2"
  },
  "kernelspec": {
   "display_name": "Python 3",
   "language": "python",
   "name": "python3"
  },
  "language_info": {
   "codemirror_mode": {
    "name": "ipython",
    "version": 3
   },
   "file_extension": ".py",
   "mimetype": "text/x-python",
   "name": "python",
   "nbconvert_exporter": "python",
   "pygments_lexer": "ipython3",
   "version": "3.5.2"
  }
 },
 "nbformat": 4,
 "nbformat_minor": 1
}
