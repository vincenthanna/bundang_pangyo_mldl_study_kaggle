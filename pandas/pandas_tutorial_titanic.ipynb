{
 "cells": [
  {
   "cell_type": "code",
   "execution_count": null,
   "metadata": {},
   "outputs": [],
   "source": [
    "from IPython.core.display import display, HTML\n",
    "display(HTML(\"<style>.container { width:90% !important; }</style>\"))"
   ]
  },
  {
   "cell_type": "markdown",
   "metadata": {},
   "source": [
    "## **Pandas 에 대해**\n",
    "\n",
    "Pandas는 2차원(row/col)으로 이루어진 데이터를 객체화하여 처리할 수 있게 해 주는 데이터분석 라이브러리 입니다.<br>\n",
    "\n",
    "참고 링크:<br>\n",
    "https://datascienceschool.net/view-notebook/704731b41f794b8ea00768f5b0904512/\n",
    "https://datascienceschool.net/view-notebook/76dcd63bba2c4959af15bec41b197e7c/"
   ]
  },
  {
   "cell_type": "markdown",
   "metadata": {},
   "source": [
    "다음과 같이 라이브러리를 import 합니다."
   ]
  },
  {
   "cell_type": "code",
   "execution_count": null,
   "metadata": {},
   "outputs": [],
   "source": [
    "import pandas as pd"
   ]
  },
  {
   "cell_type": "code",
   "execution_count": null,
   "metadata": {},
   "outputs": [],
   "source": [
    "\n",
    "import numpy as np\n",
    "import matplotlib.pyplot as plt\n",
    "import seaborn as sns\n",
    "%matplotlib inline"
   ]
  },
  {
   "cell_type": "markdown",
   "metadata": {},
   "source": [
    "실습에 사용할 kaggle titanic 데이터를 Pandas.read_csv()함수로 읽어 들입니다.<br>\n",
    "read_csv()함수는 csv파일을 읽어들여 DataFrame객체를 생성해서 리턴합니다."
   ]
  },
  {
   "cell_type": "code",
   "execution_count": null,
   "metadata": {},
   "outputs": [],
   "source": [
    "train = pd.read_csv('train.csv')\n",
    "test = pd.read_csv('test.csv')"
   ]
  },
  {
   "cell_type": "markdown",
   "metadata": {},
   "source": [
    "데이터가 많아서 100개로 줄임"
   ]
  },
  {
   "cell_type": "code",
   "execution_count": null,
   "metadata": {},
   "outputs": [],
   "source": [
    "dataframe = train.head(100)\n",
    "dataframe.describe(include='all')"
   ]
  },
  {
   "cell_type": "markdown",
   "metadata": {},
   "source": [
    "**Series** : index가 있는 1차원 배열<br>\n",
    "DataFrame의 각각의 column이 Series이다.\n",
    "\n",
    "### DataFrame과 Series의 차이\n",
    "- DataFrame은 2차원, Series는 1차원 이다."
   ]
  },
  {
   "cell_type": "code",
   "execution_count": null,
   "metadata": {},
   "outputs": [],
   "source": [
    "print(\"dataframe.shape=\", dataframe.shape) # DataFrame의 차원\n",
    "s = dataframe[\"Age\"] #한 column은 선택해서 Series를 얻는다.\n",
    "print(type(s))\n",
    "print(\"s.shape=\", s.shape)"
   ]
  },
  {
   "cell_type": "code",
   "execution_count": null,
   "metadata": {},
   "outputs": [],
   "source": [
    "dataframe.info() #DataFrame의 간결한 정보를 출력한다."
   ]
  },
  {
   "cell_type": "markdown",
   "metadata": {},
   "source": [
    "DataFrame의 데이터를 앞에서부터 잘라 얻고 싶으면 head()를 사용<br>\n",
    "몇 줄을 얻을 것인지는 n에 값을 지정해서 할 수 있다."
   ]
  },
  {
   "cell_type": "code",
   "execution_count": null,
   "metadata": {},
   "outputs": [],
   "source": [
    "dataframe.head(n=10)"
   ]
  },
  {
   "cell_type": "markdown",
   "metadata": {},
   "source": [
    "DataFrame의 Column정보를 얻어보자"
   ]
  },
  {
   "cell_type": "code",
   "execution_count": null,
   "metadata": {},
   "outputs": [],
   "source": [
    "dataframe.columns"
   ]
  },
  {
   "cell_type": "markdown",
   "metadata": {},
   "source": [
    "DataFrame의 index 정보도 별도록 얻을 수 있다."
   ]
  },
  {
   "cell_type": "code",
   "execution_count": null,
   "metadata": {},
   "outputs": [],
   "source": [
    "dataframe.index\n",
    "print(dataframe.loc[dataframe.index]) #dataframe의 모든 row를 선택함"
   ]
  },
  {
   "cell_type": "code",
   "execution_count": null,
   "metadata": {},
   "outputs": [],
   "source": [
    "#columns를 배열처럼 접근할 수 있다.\n",
    "print(\"dataframe.columns[0]\", dataframe.columns[0])\n",
    "print(\"dataframe.columns[1]\", dataframe.columns[1])\n",
    "\n",
    "print()\n",
    "# for/in 으로 각각의 항목을 얻을 수 있다.\n",
    "for col in dataframe.columns:\n",
    "    print(col)"
   ]
  },
  {
   "cell_type": "markdown",
   "metadata": {},
   "source": [
    "## DataFrame 인덱싱\n",
    "\n",
    "DataFrame에 대괄호 안에 Column 이름을 넣어서 해당 Column의 데이터를 얻을 수 있다.\n"
   ]
  },
  {
   "cell_type": "code",
   "execution_count": null,
   "metadata": {},
   "outputs": [],
   "source": [
    "print(type(dataframe[\"Age\"])) # type은 Series\n",
    "print(dataframe[\"Age\"].shape) #(891,)\n",
    "print(dataframe[\"Age\"]) # Age값을 얻을 수 있다."
   ]
  },
  {
   "cell_type": "markdown",
   "metadata": {},
   "source": [
    "대괄호 안에 boolean array를 넣어 값을 선택해서 추출할 수 있다.<br>\n",
    "대부분 조건식을 통해 값을 추출하려 할 때 사용한다."
   ]
  },
  {
   "cell_type": "code",
   "execution_count": null,
   "metadata": {},
   "outputs": [],
   "source": [
    "# Age < 30인 사람들의 데이터를 얻는다.\n",
    "print(dataframe[dataframe[\"Age\"] < 30])"
   ]
  },
  {
   "cell_type": "markdown",
   "metadata": {},
   "source": [
    "대괄호는 중복해서 사용할 수 있다.<br>\n",
    "또한 한번에 여러 개의 항목을 선택할 수 있는데, 대신 여러 Column을 선택할 때는 여러 Column 나열한 것을 대괄호로 한번 더 감싸준다."
   ]
  },
  {
   "cell_type": "code",
   "execution_count": null,
   "metadata": {},
   "outputs": [],
   "source": [
    "dataframe[[\"Age\", \"Fare\"]][\"Fare\"]"
   ]
  },
  {
   "cell_type": "markdown",
   "metadata": {},
   "source": [
    "대괄호 안에 행을 slice 해서 특정 데이터만 얻을 수 있다."
   ]
  },
  {
   "cell_type": "code",
   "execution_count": null,
   "metadata": {},
   "outputs": [],
   "source": [
    "dataframe[0:3][\"Age\"] #0~3까지(3은 제외), \"Age\" 열만 얻음"
   ]
  },
  {
   "cell_type": "code",
   "execution_count": null,
   "metadata": {},
   "outputs": [],
   "source": [
    "dataframe[50:][[\"Age\", \"Embarked\"]] #50부터 끝 행까지, \"Age\"와 \"Embarked\"를 얻음"
   ]
  },
  {
   "cell_type": "markdown",
   "metadata": {},
   "source": [
    "### **연습** : \n",
    ">dataframe에서 Age가 30 이상인 사람들의 Fare를 구하기"
   ]
  },
  {
   "cell_type": "code",
   "execution_count": null,
   "metadata": {},
   "outputs": [],
   "source": [
    "def get_df(df):\n",
    "    ### start code here ###\n",
    "    return None\n",
    "    ### end code here ###    \n",
    "\n",
    "print(get_df(dataframe))"
   ]
  },
  {
   "cell_type": "raw",
   "metadata": {},
   "source": [
    "기대 출력 :\n",
    "\n",
    "1     71.2833\n",
    "3     53.1000\n",
    "4      8.0500\n",
    "6     51.8625\n",
    "11    26.5500\n",
    "13    31.2750\n",
    "15    16.0000\n",
    "18    18.0000\n",
    "20    26.0000\n",
    "21    13.0000\n",
    "25    31.3875\n",
    "30    27.7208\n",
    "33    10.5000\n",
    "35    52.0000\n",
    "40     9.4750\n",
    "52    76.7292\n",
    "54    61.9792\n",
    "61    80.0000\n",
    "62    83.4750\n",
    "70    10.5000\n",
    "74    56.4958\n",
    "85    15.8500\n",
    "92    61.1750\n",
    "94     7.2500\n",
    "96    34.6542\n",
    "98    23.0000\n",
    "99    26.0000\n",
    "Name: Fare, dtype: float64"
   ]
  },
  {
   "cell_type": "markdown",
   "metadata": {},
   "source": [
    "### ***연습:***\n",
    ">dataframe에서 row index 30부터 39까지 Survived와 Fare값을 얻기"
   ]
  },
  {
   "cell_type": "code",
   "execution_count": null,
   "metadata": {},
   "outputs": [],
   "source": [
    "def get_df(df):\n",
    "    ### start code here ###\n",
    "    return None\n",
    "    ### end code here ###    \n",
    "\n",
    "print(get_df(dataframe))"
   ]
  },
  {
   "cell_type": "raw",
   "metadata": {},
   "source": [
    "기대 출력:\n",
    "    Survived      Fare\n",
    "30         0   27.7208\n",
    "31         1  146.5208\n",
    "32         1    7.7500\n",
    "33         0   10.5000\n",
    "34         0   82.1708\n",
    "35         0   52.0000\n",
    "36         1    7.2292\n",
    "37         0    8.0500\n",
    "38         0   18.0000\n",
    "39         1   11.2417"
   ]
  },
  {
   "cell_type": "markdown",
   "metadata": {},
   "source": [
    "### ***연습:***\n",
    ">dataframe에서 Cabin 정보가 없는 사람들의 Survived,Sex를 구하기"
   ]
  },
  {
   "cell_type": "code",
   "execution_count": null,
   "metadata": {},
   "outputs": [],
   "source": [
    "def get_df(df):\n",
    "    ### start code here ###\n",
    "    return None\n",
    "    ### end code here ###    \n",
    "\n",
    "print(get_df(dataframe))"
   ]
  },
  {
   "cell_type": "raw",
   "metadata": {},
   "source": [
    "기대 출력 :\n",
    "    Survived     Sex\n",
    "0          0    male\n",
    "2          1  female\n",
    "4          0    male\n",
    "5          0    male\n",
    "7          0    male\n",
    "8          1  female\n",
    "9          1  female\n",
    "12         0    male\n",
    "13         0    male\n",
    "14         0  female\n",
    "15         1  female\n",
    "16         0    male\n",
    "17         1    male\n",
    "18         0  female\n",
    "19         1  female\n",
    "20         0    male\n",
    "22         1  female\n",
    "24         0  female\n",
    "25         1  female\n",
    "26         0    male\n",
    "28         1  female\n",
    "29         0    male\n",
    "30         0    male\n",
    "32         1  female\n",
    "33         0    male\n",
    "34         0    male\n",
    "35         0    male\n",
    "36         1    male\n",
    "37         0    male\n",
    "38         0  female\n",
    "..       ...     ...\n",
    "64         0    male\n",
    "65         1    male\n",
    "67         0    male\n",
    "68         1  female\n",
    "69         0    male\n",
    "70         0    male\n",
    "71         0  female\n",
    "72         0    male\n",
    "73         0    male\n",
    "74         1    male\n",
    "76         0    male\n",
    "77         0    male\n",
    "78         1    male\n",
    "79         1  female\n",
    "80         0    male\n",
    "81         1    male\n",
    "82         1  female\n",
    "83         0    male\n",
    "84         1  female\n",
    "85         1  female\n",
    "86         0    male\n",
    "87         0    male\n",
    "89         0    male\n",
    "90         0    male\n",
    "91         0    male\n",
    "93         0    male\n",
    "94         0    male\n",
    "95         0    male\n",
    "98         1  female\n",
    "99         0    male\n"
   ]
  },
  {
   "cell_type": "markdown",
   "metadata": {},
   "source": [
    "## **DataFrame 수정**"
   ]
  },
  {
   "cell_type": "markdown",
   "metadata": {},
   "source": [
    "기본적으로 대괄호에 Column을 명시하고 값을 넣으면 해당 Column의 값이 모두 변경된다."
   ]
  },
  {
   "cell_type": "code",
   "execution_count": null,
   "metadata": {},
   "outputs": [],
   "source": [
    "df = dataframe.copy()\n",
    "df[\"Age\"] = 100\n",
    "print(df[\"Age\"])"
   ]
  },
  {
   "cell_type": "markdown",
   "metadata": {},
   "source": [
    "대괄호 안에 조건식을 넣어서 조건에 해당하는 데이터만 수정할 수 있다."
   ]
  },
  {
   "cell_type": "code",
   "execution_count": null,
   "metadata": {},
   "outputs": [],
   "source": [
    "df = dataframe.copy()\n",
    "print(\"Age가 null인 데이터의 수:\", df[df[\"Age\"].isnull()].shape[0]) # Age항목이 비어있는 데이터의 수를 출력\n",
    "print(df[\"Age\"])\n",
    "df[df[\"Age\"].isnull()] = 50 #비어있는 데이터를 50으로 채운다.\n",
    "print(df[\"Age\"])"
   ]
  },
  {
   "cell_type": "markdown",
   "metadata": {},
   "source": [
    "길이에 맞는 배열을 넘겨서 설정할 수도 있다."
   ]
  },
  {
   "cell_type": "code",
   "execution_count": null,
   "metadata": {},
   "outputs": [],
   "source": [
    "df = dataframe.copy()\n",
    "ages = np.arange(df.shape[0]) # 0~99까지 값을 생성한다.\n",
    "df[\"Age\"] = ages\n",
    "print(df[\"Age\"])"
   ]
  },
  {
   "cell_type": "markdown",
   "metadata": {},
   "source": [
    "새로운 열은 그냥 대괄호에 새 이름을 넣고 값을 넣어주면 된다."
   ]
  },
  {
   "cell_type": "code",
   "execution_count": null,
   "metadata": {},
   "outputs": [],
   "source": [
    "df = dataframe.copy()\n",
    "print(df.columns)\n",
    "bins = [-1, 0, 5, 12, 18, 24, 35, 60, np.inf]\n",
    "labels = ['Unknown', 'Baby', 'Child', 'Teenager', 'Student', 'Young Adult', 'Adult', 'Senior']\n",
    "'''\n",
    "Pandas.cut()은 입력으로 받은 데이터를 bins 범위로 구분해서 맞는 label로 변경해서 리턴한다.\n",
    "(리턴값이 Series이므로 Column을 선택한 Series에 넣어줄것)\n",
    "'''\n",
    "df[\"AgeGroup\"] = pd.cut(df[\"Age\"], bins, labels=labels)\n",
    "print(df.columns)\n",
    "print(df[\"AgeGroup\"])"
   ]
  },
  {
   "cell_type": "markdown",
   "metadata": {},
   "source": [
    "**DataFrame에 대괄호를 사용할 때마다 새로운 객체가 생성되는 것과 동일하므로 다음과 같은 코드로는 값 변경이 안된다.(그대로임)**"
   ]
  },
  {
   "cell_type": "code",
   "execution_count": null,
   "metadata": {},
   "outputs": [],
   "source": [
    "df = dataframe.copy()\n",
    "# Age가 비어있는 데이터에 값을 넣으려고 한다.\n",
    "df[df[\"Age\"].isnull()][\"Age\"] = 100\n",
    "print(df[\"Age\"].head(n=df.shape[0])) # NaN이 그대로 있음"
   ]
  },
  {
   "cell_type": "markdown",
   "metadata": {},
   "source": [
    "위 상황에서 값을 설정하기 위해서는 DataFrame에서 지원하는 인덱서 함수를 사용해야 한다."
   ]
  },
  {
   "cell_type": "markdown",
   "metadata": {},
   "source": [
    "### loc 인덱서\n",
    "다음과 같이 사용한다.\n",
    "    DataFrame.[row 인덱싱 값, col 인덱싱 값]\n",
    "    \n",
    "인덱스데이터의 종류 :\n",
    "- 인덱스데이터 슬라이스\n",
    "- 인덱스데이터 리스트\n",
    "- 같은 행 인덱스를 가지는 불리언 시리즈 (행 인덱싱의 경우)\n",
    "- 또는 위의 값들을 반환하는 함수\n"
   ]
  },
  {
   "cell_type": "markdown",
   "metadata": {},
   "source": [
    "위와 같은 경우 아래와 같이 loc[boolean값, [column 이름]]에 값을 넣어서 해결할 수 있다."
   ]
  },
  {
   "cell_type": "code",
   "execution_count": null,
   "metadata": {},
   "outputs": [],
   "source": [
    "df = dataframe.copy()\n",
    "#df[df[\"Age\"].isnull()][\"Age\"] = 100\n",
    "df.loc[df[\"Age\"].isnull(), [\"Age\"]] = 100 # loc(boolean 값, column 이름)로 값을 읽거나 설정할 수 있다.\n",
    "print(df[\"Age\"])\n"
   ]
  },
  {
   "cell_type": "markdown",
   "metadata": {},
   "source": [
    "행번호로 범위를 지정해서 얻을 수도 있다."
   ]
  },
  {
   "cell_type": "code",
   "execution_count": null,
   "metadata": {},
   "outputs": [],
   "source": [
    "df.loc[0:5] #0번째부터 5까지(행 인덱스가 정수이면 레이블 슬라이싱 방식에 따라 5도 포함된다.)"
   ]
  },
  {
   "cell_type": "markdown",
   "metadata": {},
   "source": [
    "loc[]안에 여러 column 이름을 넣어서 여러 column을 추출해 낼 수도 있다.\n",
    "여러 열을 추출할 경우 아래 예와 같이 column이름들을 대괄호로 묶어서 넘겨준다."
   ]
  },
  {
   "cell_type": "code",
   "execution_count": null,
   "metadata": {},
   "outputs": [],
   "source": [
    "df[[\"Age\", \"Fare\"]].head()"
   ]
  },
  {
   "cell_type": "markdown",
   "metadata": {},
   "source": [
    "조건식을 통해 조건이 맞는 행만 고를 수도 있다.<br>\n",
    "- 두번째에 column 이름을 넣을 수 있으므로 연속적인 대괄호로 인한 copy가 일어나지 않음"
   ]
  },
  {
   "cell_type": "code",
   "execution_count": null,
   "metadata": {},
   "outputs": [],
   "source": [
    "dataframe.loc[dataframe[\"Age\"].isnull()].head()"
   ]
  },
  {
   "cell_type": "code",
   "execution_count": null,
   "metadata": {},
   "outputs": [],
   "source": [
    "dataframe.loc[dataframe[\"Age\"] > 50].head()"
   ]
  },
  {
   "cell_type": "code",
   "execution_count": null,
   "metadata": {},
   "outputs": [],
   "source": [
    "dataframe.loc[dataframe[\"Age\"] > 50, [\"Name\"]] #위 식에서 Name만 얻어서 Series 타입을 얻는다."
   ]
  },
  {
   "cell_type": "markdown",
   "metadata": {},
   "source": [
    "### iloc 인덱서\n",
    "loc 인덱서와 다르게 라벨이 아니라 순서를 나타내는 정수만 인자로 받는다.<br>그 외 동작방식은 loc와 간다."
   ]
  },
  {
   "cell_type": "code",
   "execution_count": null,
   "metadata": {},
   "outputs": [],
   "source": [
    "print(dataframe.columns)\n",
    "dataframe.iloc[[0,1,2], [0,1,2,]] "
   ]
  },
  {
   "cell_type": "code",
   "execution_count": null,
   "metadata": {},
   "outputs": [],
   "source": [
    "for i in range(5):\n",
    "    print(dataframe.iloc[i, [0,1,2]])"
   ]
  },
  {
   "cell_type": "code",
   "execution_count": null,
   "metadata": {},
   "outputs": [],
   "source": [
    "dataframe.iloc[0:10, [5,6]]"
   ]
  },
  {
   "cell_type": "markdown",
   "metadata": {},
   "source": [
    "### at, iat 인덱서\n",
    "값 하나만 뽑아야 할 때 사용한다. 빠른 인덱싱 속도가 필요할 때 사용한다."
   ]
  },
  {
   "cell_type": "code",
   "execution_count": null,
   "metadata": {},
   "outputs": [],
   "source": [
    "for i in range(10):\n",
    "    print(dataframe.at[i, \"Age\"])"
   ]
  },
  {
   "cell_type": "code",
   "execution_count": null,
   "metadata": {},
   "outputs": [],
   "source": [
    "print(dataframe.columns.values)\n",
    "for i in range(dataframe.shape[0]): #전체 데이터에 대해 for loop\n",
    "    if dataframe.at[i, \"Age\"] == 20: # 20살이면,\n",
    "        print(dataframe.iloc[i]) #출력"
   ]
  },
  {
   "cell_type": "markdown",
   "metadata": {},
   "source": [
    "### **연습** : \n",
    ">비어있는 Cabin에 \"Unknown\" 문자열을 채우기"
   ]
  },
  {
   "cell_type": "code",
   "execution_count": null,
   "metadata": {},
   "outputs": [],
   "source": [
    "df = dataframe.copy()\n",
    "\n",
    "def fill_cabin_unknown(df):\n",
    "    ### start code here ###\n",
    "    \n",
    "    ### end code here ###\n",
    "    return df\n",
    "\n",
    "df = fill_cabin_unknown(df)\n",
    "print(df[\"Cabin\"])"
   ]
  },
  {
   "cell_type": "raw",
   "metadata": {},
   "source": [
    "기대 출력:\n",
    " \n",
    "0         Unknown\n",
    "1             C85\n",
    "2         Unknown\n",
    "3            C123\n",
    "4         Unknown\n",
    "5         Unknown\n",
    "6             E46\n",
    "7         Unknown\n",
    "8         Unknown\n",
    "9         Unknown\n",
    "10             G6\n",
    "11           C103\n",
    "12        Unknown\n",
    "13        Unknown\n",
    "14        Unknown\n",
    "15        Unknown\n",
    "16        Unknown\n",
    "17        Unknown\n",
    "18        Unknown\n",
    "19        Unknown\n",
    "20        Unknown\n",
    "21            D56\n",
    "22        Unknown\n",
    "23             A6\n",
    "24        Unknown\n",
    "25        Unknown\n",
    "26        Unknown\n",
    "27    C23 C25 C27\n",
    "28        Unknown\n",
    "29        Unknown\n",
    "         ...     \n",
    "70        Unknown\n",
    "71        Unknown\n",
    "72        Unknown\n",
    "73        Unknown\n",
    "74        Unknown\n",
    "75          F G73\n",
    "76        Unknown\n",
    "77        Unknown\n",
    "78        Unknown\n",
    "79        Unknown\n",
    "80        Unknown\n",
    "81        Unknown\n",
    "82        Unknown\n",
    "83        Unknown\n",
    "84        Unknown\n",
    "85        Unknown\n",
    "86        Unknown\n",
    "87        Unknown\n",
    "88    C23 C25 C27\n",
    "89        Unknown\n",
    "90        Unknown\n",
    "91        Unknown\n",
    "92            E31\n",
    "93        Unknown\n",
    "94        Unknown\n",
    "95        Unknown\n",
    "96             A5\n",
    "97        D10 D12\n",
    "98        Unknown\n",
    "99        Unknown\n",
    "Name: Cabin, Length: 100, dtype: object"
   ]
  },
  {
   "cell_type": "markdown",
   "metadata": {},
   "source": [
    "### **연습:**\n",
    ">Parch와 SibSp 값을 합해서 Family라는 항목을 추가한다."
   ]
  },
  {
   "cell_type": "code",
   "execution_count": null,
   "metadata": {},
   "outputs": [],
   "source": [
    "df = dataframe.copy()\n",
    "\n",
    "### start code here ###\n",
    "None\n",
    "### end code here ###\n",
    "\n",
    "if \"Family\" in df:\n",
    "    print(df[\"Family\"].sum())"
   ]
  },
  {
   "cell_type": "raw",
   "metadata": {},
   "source": [
    "기대 출력:\n",
    "117.0"
   ]
  },
  {
   "cell_type": "markdown",
   "metadata": {},
   "source": [
    "### **연습:**\n",
    ">Embarked 중 가장 갯수가 많은 것을 찾아서 null값에 채운다.\n",
    "\n",
    "갯수가 가장 많은 것을 확인하려면 column을 선택한 Series에 **value_counts()**를 호출해서 얻을 수 있다."
   ]
  },
  {
   "cell_type": "code",
   "execution_count": null,
   "metadata": {},
   "outputs": [],
   "source": [
    "df = dataframe.copy()\n",
    "### start code here ###\n",
    "\n",
    "### end code here ###\n",
    "print(df[df[\"Embarked\"].isnull()].shape[0])"
   ]
  },
  {
   "cell_type": "raw",
   "metadata": {},
   "source": [
    "기대 출력:\n",
    "0"
   ]
  },
  {
   "cell_type": "markdown",
   "metadata": {},
   "source": [
    "### **연습:**\n",
    ">Name에서 Mrs., Miss. 등의 호칭을 추출해서 Title항목을 추가한다.\n",
    "\n",
    "이름 항목에서 호칭을 추출하는 것은 Series.str.extract()와 <br>\n",
    "'([A-Za-z]+)\\. ' 정규표현식을 사용."
   ]
  },
  {
   "cell_type": "code",
   "execution_count": null,
   "metadata": {},
   "outputs": [],
   "source": [
    "df = dataframe.copy()\n",
    "### start code here ###\n",
    "\n",
    "### end code here ###\n",
    "if \"Title\" in df:\n",
    "    print(df[\"Title\"].unique())"
   ]
  },
  {
   "cell_type": "raw",
   "metadata": {},
   "source": [
    "기대 출력:\n",
    "['Mr' 'Mrs' 'Miss' 'Master' 'Don']"
   ]
  },
  {
   "cell_type": "markdown",
   "metadata": {},
   "source": [
    "## 그룹 분석"
   ]
  },
  {
   "cell_type": "markdown",
   "metadata": {},
   "source": [
    "groupby()메소드를 통해 선택한 column의 데이터 종류별로 데이터를 분류할 수 있다.<br>\n",
    "groupby()에는 다음을 인수로 사용한다.\n",
    "- 열 또는 열의 리스트\n",
    "- 행 인덱스\n",
    "\n",
    "<br>\n",
    "<br>\n",
    "\n",
    "groupby()함수는 값의 종류별로 묶인 데이터를 나타내는 GroupBy 클래스 객체를 반환한다.<br>\n",
    "\n",
    "- size, count: 그룹 데이터의 갯수\n",
    "- mean, median, min, max: 그룹 데이터의 평균, 중앙값, 최소, 최대\n",
    "- sum, prod, std, var, quantile : 그룹 데이터의 합계, 곱, 표준편차, 분산, 사분위수\n",
    "- first, last: 그룹 데이터 중 가장 첫번째 데이터와 가장 나중 데이터"
   ]
  },
  {
   "cell_type": "markdown",
   "metadata": {},
   "source": [
    "Pclass당 생존자 수를 계산해 본다."
   ]
  },
  {
   "cell_type": "code",
   "execution_count": null,
   "metadata": {},
   "outputs": [],
   "source": [
    "print(dataframe[[\"Pclass\", \"Survived\"]].groupby([\"Pclass\"]))"
   ]
  },
  {
   "cell_type": "markdown",
   "metadata": {},
   "source": [
    "Pclass와 Survived를 선택헤서 Pclass로 group화하고 Survived값을 합한다."
   ]
  },
  {
   "cell_type": "code",
   "execution_count": null,
   "metadata": {},
   "outputs": [],
   "source": [
    "dataframe[[\"Pclass\", \"Survived\"]].groupby([\"Pclass\"]).sum()"
   ]
  },
  {
   "cell_type": "markdown",
   "metadata": {},
   "source": [
    "Survived에서 1이 산 것으로 0이 죽은 것이므로 평균을 내면 생존률 값을 얻을 수 있다."
   ]
  },
  {
   "cell_type": "code",
   "execution_count": null,
   "metadata": {},
   "outputs": [],
   "source": [
    "dataframe[[\"Pclass\", \"Survived\"]].groupby([\"Pclass\"]).mean()"
   ]
  },
  {
   "cell_type": "markdown",
   "metadata": {},
   "source": [
    "group에 속한 데이터의 수를 확인하려면 size()를 호출한다."
   ]
  },
  {
   "cell_type": "code",
   "execution_count": null,
   "metadata": {},
   "outputs": [],
   "source": [
    "dataframe[[\"Pclass\", \"Embarked\"]].groupby([\"Pclass\"]).size()"
   ]
  },
  {
   "cell_type": "markdown",
   "metadata": {},
   "source": [
    "[df[\"Survived\"] == 1] 조건을 추가했으니 Survived의 평균은 모두 1이 된다."
   ]
  },
  {
   "cell_type": "code",
   "execution_count": null,
   "metadata": {},
   "outputs": [],
   "source": [
    "dataframe[[\"Pclass\", \"Survived\"]][df[\"Survived\"] == 1].groupby([\"Pclass\"]).mean()"
   ]
  },
  {
   "cell_type": "markdown",
   "metadata": {},
   "source": [
    "### **연습:**\n",
    "\n",
    ">성별과 생존여부를 모아서 성별로 그룹화하여 생존률을 출력"
   ]
  },
  {
   "cell_type": "code",
   "execution_count": null,
   "metadata": {},
   "outputs": [],
   "source": [
    "### start code here ###\n",
    "None\n",
    "#end code here ###"
   ]
  },
  {
   "cell_type": "raw",
   "metadata": {},
   "source": [
    "기대 출력:\n",
    "\n",
    "        Survived\n",
    "Sex\t\n",
    "female\t0.794872\n",
    "male\t0.163934"
   ]
  },
  {
   "cell_type": "markdown",
   "metadata": {},
   "source": [
    "### **연습:**\n",
    "\n",
    ">Pclass에 따른 평균 나이대를 출력"
   ]
  },
  {
   "cell_type": "code",
   "execution_count": null,
   "metadata": {},
   "outputs": [],
   "source": [
    "### start code here ###\n",
    "None\n",
    "#end code here ###"
   ]
  },
  {
   "cell_type": "raw",
   "metadata": {},
   "source": [
    "기대 출력:\n",
    "\n",
    "        Age\n",
    "Pclass           \n",
    "1       40.555556\n",
    "2       26.872353\n",
    "3       22.220930"
   ]
  },
  {
   "cell_type": "markdown",
   "metadata": {},
   "source": [
    "## 추가 연습문제 ##"
   ]
  },
  {
   "cell_type": "markdown",
   "metadata": {},
   "source": [
    ">Fare 값의 편차가 크므로 Fare값에 log를 취한다."
   ]
  },
  {
   "cell_type": "code",
   "execution_count": null,
   "metadata": {},
   "outputs": [],
   "source": [
    "df = dataframe.copy()\n",
    "### start code here ###\n",
    "None\n",
    "#end code here ###\n",
    "print(df[\"Fare\"].head())"
   ]
  },
  {
   "cell_type": "raw",
   "metadata": {},
   "source": [
    "기대 출력:\n",
    "\n",
    "0    1.981001\n",
    "1    4.266662\n",
    "2    2.070022\n",
    "3    3.972177\n",
    "4    2.085672\n",
    "Name: Fare, dtype: float64"
   ]
  },
  {
   "cell_type": "markdown",
   "metadata": {},
   "source": [
    ">Cabin이 빈 데이터를 채우려 한다.<br>\n",
    "같은 Ticket을 가진 사람의 Cabin을 채우려고 하는데, 이렇게 채울 수 있는 사람의 총 수를 구한다.\n",
    "\n",
    "- iterrows() : DataFrame에 호출해서 iterator를 얻을 수 있다.(index, row)를 넘겨준다."
   ]
  },
  {
   "cell_type": "code",
   "execution_count": null,
   "metadata": {},
   "outputs": [],
   "source": [
    "df = test.copy()\n",
    "\n",
    "def empty_cabin_but_oterhs_have_cabin_cnt(df):\n",
    "    ret = 0    \n",
    "    for idx, row in df[df[\"Cabin\"].isnull() == True].iterrows(): #Cabin이 없는 행에 대해 loop 를 돈다.      \n",
    "        ### start code here ###\n",
    "        pass\n",
    "        ### end code here ###\n",
    "    return ret\n",
    "\n",
    "print(\"count of fillable cabin : \", empty_cabin_but_oterhs_have_cabin_cnt(df))"
   ]
  },
  {
   "cell_type": "raw",
   "metadata": {},
   "source": [
    "기대 출력:\n",
    "count of fillable cabin :  3"
   ]
  }
 ],
 "metadata": {
  "kernelspec": {
   "display_name": "Python 3",
   "language": "python",
   "name": "python3"
  },
  "language_info": {
   "codemirror_mode": {
    "name": "ipython",
    "version": 3
   },
   "file_extension": ".py",
   "mimetype": "text/x-python",
   "name": "python",
   "nbconvert_exporter": "python",
   "pygments_lexer": "ipython3",
   "version": "3.5.2"
  }
 },
 "nbformat": 4,
 "nbformat_minor": 2
}
